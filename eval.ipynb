{
 "cells": [
  {
   "cell_type": "code",
   "execution_count": 16,
   "id": "5ea0fa40",
   "metadata": {},
   "outputs": [],
   "source": [
    "import matplotlib.pyplot as plt\n",
    "import os\n",
    "import numpy as np"
   ]
  },
  {
   "cell_type": "code",
   "execution_count": 17,
   "id": "3405c5d2",
   "metadata": {},
   "outputs": [],
   "source": [
    "def draw_one_method(path):\n",
    "    plt.clf()\n",
    "    file_names = os.listdir(path)\n",
    "    x = []\n",
    "    for name in file_names:\n",
    "        if os.path.isdir(path + '/' + name):\n",
    "            x.append(int(name))\n",
    "    y_list = [[], [], [], [], []]\n",
    "    for file_name in file_names:\n",
    "#         print(file_name)\n",
    "        if not os.path.isdir(path + '/' + file_name):\n",
    "            continue\n",
    "        f = open(path + '/' + file_name + '/score.txt', 'r', encoding='utf8')\n",
    "        for i, line in enumerate(f.readlines()):\n",
    "            if i == 0:\n",
    "                continue\n",
    "            if i == 1:\n",
    "                y_list[i - 1].append(float(line.split('  ')[-1][:-1]))\n",
    "            else:\n",
    "                y_list[i - 1].append(float(line.split('  ')[-2]))\n",
    "        f.close()\n",
    "    print(\"********\")\n",
    "    print(y_list)\n",
    "\n",
    "    items = path.split('/')\n",
    "    title = items[2] + '-' + items[3] + '-' + items[-1]\n",
    "    plt.title(title)\n",
    "    plt.plot(x, y_list[0], label='ALL')\n",
    "    plt.plot(x, y_list[1], label='LOC')\n",
    "    plt.plot(x, y_list[2], label='MISC')\n",
    "    plt.plot(x, y_list[3], label='ORG')\n",
    "    plt.plot(x, y_list[4], label='PER')\n",
    "    plt.legend()\n",
    "    plt.xlabel('train sentence#')  # make axis labels\n",
    "    plt.ylabel('F1')\n",
    "    my_y_ticks = np.arange(44, 95, 3)\n",
    "    plt.yticks(my_y_ticks)\n",
    "    plt.savefig(path + '/' + title + '.png')\n",
    "    print(title + ' saved!')"
   ]
  },
  {
   "cell_type": "code",
   "execution_count": 18,
   "id": "f2ccd100",
   "metadata": {},
   "outputs": [],
   "source": [
    "#print(y_list)"
   ]
  },
  {
   "cell_type": "code",
   "execution_count": 19,
   "id": "61b71637",
   "metadata": {},
   "outputs": [],
   "source": [
    "def draw_overall(path):\n",
    "    plt.clf()\n",
    "    method_names = os.listdir(path)\n",
    "    for method in method_names:\n",
    "        if method == 'full':\n",
    "            f = open(path + '/full/score.txt', 'r', encoding='utf8')\n",
    "            plt.hlines(float(f.readlines()[1].split('  ')[-1][:-1]), 0, 102093, linestyles=\"dashed\", label='full data')\n",
    "            continue\n",
    "        file_names = os.listdir(path + '/' + method)\n",
    "        x, y = [], []\n",
    "        for file_name in file_names:\n",
    "            if not os.path.isdir(path + '/' + method + '/' + file_name):\n",
    "                continue\n",
    "            x.append(int(file_name))\n",
    "            # print(file_name)\n",
    "            f = open(path + '/' + method + '/' + file_name + '/score.txt', 'r', encoding='utf8')\n",
    "            y.append(float(f.readlines()[1].split('  ')[-1][:-1]))\n",
    "            f.close()\n",
    "        plt.plot(x, y, label=method)\n",
    "\n",
    "    items = path.split('/')\n",
    "    title = items[2] + '-' + items[3] + '-overall'\n",
    "    plt.title(title)\n",
    "    plt.legend()\n",
    "    plt.xlabel('train sentence#')  # make axis labels\n",
    "    plt.ylabel('F1')\n",
    "    my_y_ticks = np.arange(62, 94, 2)\n",
    "    plt.yticks(my_y_ticks)\n",
    "    plt.savefig(path + '/' + title + '.png')\n",
    "    print(title + ' saved!')"
   ]
  },
  {
   "cell_type": "code",
   "execution_count": 20,
   "id": "b7c55639",
   "metadata": {},
   "outputs": [
    {
     "ename": "IndexError",
     "evalue": "list index out of range",
     "output_type": "error",
     "traceback": [
      "\u001b[1;31m---------------------------------------------------------------------------\u001b[0m",
      "\u001b[1;31mIndexError\u001b[0m                                Traceback (most recent call last)",
      "Cell \u001b[1;32mIn [20], line 2\u001b[0m\n\u001b[0;32m      1\u001b[0m \u001b[38;5;28;01mif\u001b[39;00m \u001b[38;5;18m__name__\u001b[39m \u001b[38;5;241m==\u001b[39m \u001b[38;5;124m'\u001b[39m\u001b[38;5;124m__main__\u001b[39m\u001b[38;5;124m'\u001b[39m:\n\u001b[1;32m----> 2\u001b[0m     \u001b[43mdraw_one_method\u001b[49m\u001b[43m(\u001b[49m\u001b[38;5;124;43m'\u001b[39;49m\u001b[38;5;124;43mneural_ner/results/conll/CNN_BiLSTM_CRF/active_checkpoint/random\u001b[39;49m\u001b[38;5;124;43m'\u001b[39;49m\u001b[43m)\u001b[49m\n",
      "Cell \u001b[1;32mIn [17], line 20\u001b[0m, in \u001b[0;36mdraw_one_method\u001b[1;34m(path)\u001b[0m\n\u001b[0;32m     18\u001b[0m             y_list[i \u001b[38;5;241m-\u001b[39m \u001b[38;5;241m1\u001b[39m]\u001b[38;5;241m.\u001b[39mappend(\u001b[38;5;28mfloat\u001b[39m(line\u001b[38;5;241m.\u001b[39msplit(\u001b[38;5;124m'\u001b[39m\u001b[38;5;124m  \u001b[39m\u001b[38;5;124m'\u001b[39m)[\u001b[38;5;241m-\u001b[39m\u001b[38;5;241m1\u001b[39m][:\u001b[38;5;241m-\u001b[39m\u001b[38;5;241m1\u001b[39m]))\n\u001b[0;32m     19\u001b[0m         \u001b[38;5;28;01melse\u001b[39;00m:\n\u001b[1;32m---> 20\u001b[0m             \u001b[43my_list\u001b[49m\u001b[43m[\u001b[49m\u001b[43mi\u001b[49m\u001b[43m \u001b[49m\u001b[38;5;241;43m-\u001b[39;49m\u001b[43m \u001b[49m\u001b[38;5;241;43m1\u001b[39;49m\u001b[43m]\u001b[49m\u001b[38;5;241m.\u001b[39mappend(\u001b[38;5;28mfloat\u001b[39m(line\u001b[38;5;241m.\u001b[39msplit(\u001b[38;5;124m'\u001b[39m\u001b[38;5;124m  \u001b[39m\u001b[38;5;124m'\u001b[39m)[\u001b[38;5;241m-\u001b[39m\u001b[38;5;241m2\u001b[39m]))\n\u001b[0;32m     21\u001b[0m     f\u001b[38;5;241m.\u001b[39mclose()\n\u001b[0;32m     22\u001b[0m \u001b[38;5;28mprint\u001b[39m(\u001b[38;5;124m\"\u001b[39m\u001b[38;5;124m********\u001b[39m\u001b[38;5;124m\"\u001b[39m)\n",
      "\u001b[1;31mIndexError\u001b[0m: list index out of range"
     ]
    },
    {
     "data": {
      "text/plain": [
       "<Figure size 640x480 with 0 Axes>"
      ]
     },
     "metadata": {},
     "output_type": "display_data"
    }
   ],
   "source": [
    "if __name__ == '__main__':\n",
    "    draw_one_method('neural_ner/results/conll/CNN_BiLSTM_CRF/active_checkpoint/random')\n",
    "    # draw_overall('neural_ner/results/conll/CNN_BiLSTM_CRF/active_checkpoint')"
   ]
  },
  {
   "cell_type": "code",
   "execution_count": null,
   "id": "8f4b7f0a",
   "metadata": {},
   "outputs": [],
   "source": []
  }
 ],
 "metadata": {
  "kernelspec": {
   "display_name": "Python 3 (ipykernel)",
   "language": "python",
   "name": "python3"
  },
  "language_info": {
   "codemirror_mode": {
    "name": "ipython",
    "version": 3
   },
   "file_extension": ".py",
   "mimetype": "text/x-python",
   "name": "python",
   "nbconvert_exporter": "python",
   "pygments_lexer": "ipython3",
   "version": "3.10.8"
  }
 },
 "nbformat": 4,
 "nbformat_minor": 5
}
